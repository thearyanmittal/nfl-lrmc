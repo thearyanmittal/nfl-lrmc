{
 "cells": [
  {
   "cell_type": "code",
   "execution_count": 148,
   "metadata": {},
   "outputs": [],
   "source": [
    "# import packages\n",
    "import nfl_data_py as nfl\n",
    "import numpy as np\n",
    "import pandas as pd\n",
    "import matplotlib.pyplot as plt\n",
    "import seaborn as sns\n",
    "\n",
    "sns.set_theme()"
   ]
  },
  {
   "cell_type": "code",
   "execution_count": 149,
   "metadata": {},
   "outputs": [
    {
     "name": "stdout",
     "output_type": "stream",
     "text": [
      "2022 done.\n",
      "2021 done.\n",
      "2019 done.\n",
      "2018 done.\n",
      "2017 done.\n",
      "2016 done.\n",
      "2015 done.\n",
      "Downcasting floats.\n"
     ]
    }
   ],
   "source": [
    "# import data\n",
    "pbp_data = nfl.import_pbp_data([2022, 2021, 2019, 2018, 2017, 2016, 2015])\n",
    "pbp_data['home_team'].replace({'SD': 'LAC', 'OAK': 'LV', 'STL': 'LA'}, inplace=True)\n",
    "pbp_data['away_team'].replace({'SD': 'LAC', 'OAK': 'LV', 'STL': 'LA'}, inplace=True)\n",
    "cols = list(nfl.see_pbp_cols())\n",
    "sample = pbp_data.sample(10)"
   ]
  },
  {
   "cell_type": "code",
   "execution_count": 154,
   "metadata": {},
   "outputs": [],
   "source": [
    "# set up result DataFrame\n",
    "ingame_stats = {\n",
    "    'game_id': [], \n",
    "    'home_team': [],\n",
    "    'away_team': [],\n",
    "    'home_DSR': [],\n",
    "    'away_DSR': [],\n",
    "    'home_GC': [],\n",
    "    'away_GC': []\n",
    "}"
   ]
  },
  {
   "cell_type": "code",
   "execution_count": 155,
   "metadata": {},
   "outputs": [],
   "source": [
    "# compute home and away DSR for each game\n",
    "# DSR = (1st Downs) / (Drives + 1st Downs), where TDs are included in 1st Downs\n",
    "games = pbp_data.groupby('game_id')\n",
    "\n",
    "# sum number of first downs and drives for each team (remove penalty firsts, end-of-half drives, qb kneel drives)\n",
    "for game_group in games.groups:\n",
    "    game = games.get_group(game_group)\n",
    "\n",
    "    home_firsts = 0\n",
    "    home_drives = 0\n",
    "    away_firsts = 0\n",
    "    away_drives = 0\n",
    "\n",
    "    drives = game.groupby('drive')\n",
    "    for drive_group in drives.groups:\n",
    "        drive = drives.get_group(drive_group)\n",
    "\n",
    "        if 0 in set(drive['half_seconds_remaining']):\n",
    "            continue\n",
    "        if 'home' in set(drive['posteam_type']):\n",
    "            home_firsts -= list(drive['first_down_penalty']).count(1)\n",
    "            home_firsts += np.nanmax(drive['drive_first_downs']) if np.nanmax(drive['drive_first_downs']) else 0\n",
    "            home_drives += 1\n",
    "        elif 'away' in set(drive['posteam_type']):\n",
    "            away_firsts -= list(drive['first_down_penalty']).count(1)\n",
    "            away_firsts += np.nanmax(drive['drive_first_downs']) if np.nanmax(drive['drive_first_downs']) else 0\n",
    "            away_drives += 1\n",
    "        else:\n",
    "            continue\n",
    "\n",
    "    ingame_stats['game_id'].append(game['game_id'].iloc[0])\n",
    "    ingame_stats['home_team'].append(game['home_team'].iloc[0])\n",
    "    ingame_stats['away_team'].append(game['away_team'].iloc[0])\n",
    "    ingame_stats['home_DSR'].append(home_firsts / (home_drives + home_firsts))\n",
    "    ingame_stats['away_DSR'].append(away_firsts / (away_drives + away_firsts))"
   ]
  },
  {
   "cell_type": "code",
   "execution_count": 152,
   "metadata": {},
   "outputs": [],
   "source": [
    "# compute home and away game control for each game"
   ]
  },
  {
   "cell_type": "code",
   "execution_count": 156,
   "metadata": {},
   "outputs": [],
   "source": [
    "# save ingame_stats\n",
    "ingame_stats_df = pd.DataFrame(ingame_stats)\n",
    "ingame_stats_df.to_csv('data/ingame_stats.csv')"
   ]
  }
 ],
 "metadata": {
  "kernelspec": {
   "display_name": "nfl-lrmc--q3Bt42M",
   "language": "python",
   "name": "python3"
  },
  "language_info": {
   "codemirror_mode": {
    "name": "ipython",
    "version": 3
   },
   "file_extension": ".py",
   "mimetype": "text/x-python",
   "name": "python",
   "nbconvert_exporter": "python",
   "pygments_lexer": "ipython3",
   "version": "3.10.9"
  },
  "orig_nbformat": 4,
  "vscode": {
   "interpreter": {
    "hash": "e8db4dff28ebb1399b296dbe3d5bc655df18bc6257799aa9cdaaeae67dd0c63d"
   }
  }
 },
 "nbformat": 4,
 "nbformat_minor": 2
}
