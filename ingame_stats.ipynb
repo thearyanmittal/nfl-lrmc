{
 "cells": [
  {
   "cell_type": "code",
   "execution_count": 2,
   "metadata": {},
   "outputs": [],
   "source": [
    "# import packages\n",
    "import nfl_data_py as nfl\n",
    "import numpy as np\n",
    "import pandas as pd\n",
    "from scipy import integrate"
   ]
  },
  {
   "cell_type": "code",
   "execution_count": 3,
   "metadata": {},
   "outputs": [
    {
     "name": "stdout",
     "output_type": "stream",
     "text": [
      "2022 done.\n",
      "2021 done.\n",
      "2019 done.\n",
      "2018 done.\n",
      "2017 done.\n",
      "2016 done.\n",
      "2015 done.\n",
      "Downcasting floats.\n"
     ]
    }
   ],
   "source": [
    "# import data\n",
    "pbp_data = nfl.import_pbp_data([2022, 2021, 2019, 2018, 2017, 2016, 2015])\n",
    "pbp_data['home_team'].replace({'SD': 'LAC', 'OAK': 'LV', 'STL': 'LA'}, inplace=True)\n",
    "pbp_data['away_team'].replace({'SD': 'LAC', 'OAK': 'LV', 'STL': 'LA'}, inplace=True)\n",
    "cols = list(nfl.see_pbp_cols())\n",
    "sample = pbp_data.sample(10)"
   ]
  },
  {
   "cell_type": "code",
   "execution_count": 4,
   "metadata": {},
   "outputs": [],
   "source": [
    "# set up result DataFrame\n",
    "ingame_stats = {\n",
    "    'game_id': [], \n",
    "    'home_team': [],\n",
    "    'away_team': [],\n",
    "    'home_dsr': [],\n",
    "    'away_dsr': [],\n",
    "    'home_gc': [],\n",
    "    'away_gc': [],\n",
    "    'home_gc_signed': [],\n",
    "    'away_gc_signed': [],\n",
    "    'home_gc_avg': [],\n",
    "    'away_gc_avg': [],\n",
    "    'home_gc_fourthqtr': [],\n",
    "    'away_gc_fourthqtr': []\n",
    "}"
   ]
  },
  {
   "cell_type": "code",
   "execution_count": 5,
   "metadata": {},
   "outputs": [],
   "source": [
    "# compute DSR and game control for each game\n",
    "# DSR = (1st Downs + TDs) / (Drives + 1st Downs - TDs), where TDs are included in 1st Downs\n",
    "# GC = integral of win probability over all plays\n",
    "\n",
    "games = pbp_data.groupby('game_id')\n",
    "\n",
    "# sum number of first downs and drives for each team (remove penalty firsts, end-of-half drives, qb kneel drives)\n",
    "for game_group in games.groups:\n",
    "    game = games.get_group(game_group)\n",
    "\n",
    "    home_firsts = 0\n",
    "    home_drives = 0\n",
    "    home_tds = 0\n",
    "    away_firsts = 0\n",
    "    away_drives = 0\n",
    "    away_tds = 0\n",
    "\n",
    "    drives = game.groupby('drive')\n",
    "    for drive_group in drives.groups:\n",
    "        drive = drives.get_group(drive_group)\n",
    "\n",
    "        if 0 in set(drive['half_seconds_remaining']):\n",
    "            continue\n",
    "        if 'home' in set(drive['posteam_type']):\n",
    "            home_firsts -= list(drive['first_down_penalty']).count(1)\n",
    "            home_tds += 1 if 1 in set(drive['touchdown']) else 0\n",
    "            home_firsts += np.nanmax(drive['drive_first_downs']) if np.nanmax(drive['drive_first_downs']) else 0\n",
    "            home_drives += 1\n",
    "        elif 'away' in set(drive['posteam_type']):\n",
    "            away_firsts -= list(drive['first_down_penalty']).count(1)\n",
    "            away_tds += 1 if 1 in set(drive['touchdown']) else 0\n",
    "            away_firsts += np.nanmax(drive['drive_first_downs']) if np.nanmax(drive['drive_first_downs']) else 0\n",
    "            away_drives += 1\n",
    "        else:\n",
    "            continue\n",
    "\n",
    "    # game ID info\n",
    "    ingame_stats['game_id'].append(game['game_id'].iloc[0])\n",
    "    ingame_stats['home_team'].append(game['home_team'].iloc[0])\n",
    "    ingame_stats['away_team'].append(game['away_team'].iloc[0])\n",
    "\n",
    "    # DSR stats\n",
    "    ingame_stats['home_dsr'].append(home_firsts / (home_drives + home_firsts - home_tds))\n",
    "    ingame_stats['away_dsr'].append(away_firsts / (away_drives + away_firsts - away_tds))\n",
    "\n",
    "    # integrate win probability to get GC stats\n",
    "    ingame_stats['home_gc'].append(integrate.cumulative_trapezoid(game['home_wp'].dropna())[-1]) #standard GC\n",
    "    ingame_stats['away_gc'].append(integrate.cumulative_trapezoid(game['away_wp'].dropna())[-1])\n",
    "\n",
    "    ingame_stats['home_gc_signed'].append(integrate.cumulative_trapezoid(game['home_wp'].dropna() - .5)[-1]) #signed GC\n",
    "    ingame_stats['away_gc_signed'].append(integrate.cumulative_trapezoid(game['away_wp'].dropna() - .5)[-1])\n",
    "\n",
    "    ingame_stats['home_gc_avg'].append(integrate.cumulative_trapezoid(game['home_wp'].dropna() - .5)[-1] * 1/len(game['home_wp'].dropna())) #avg GC\n",
    "    ingame_stats['away_gc_avg'].append(integrate.cumulative_trapezoid(game['away_wp'].dropna() - .5)[-1] * 1/len(game['away_wp'].dropna()))\n",
    "\n",
    "    home_fourth_wp = [play['home_wp'] - .5 if play['qtr'] == 4 else 0 for (index, play) in game.iterrows()] #4th quarter GC\n",
    "    away_fourth_wp = [play['away_wp'] - .5 if play['qtr'] == 4 else 0 for (index, play) in game.iterrows()]\n",
    "    ingame_stats['home_gc_fourthqtr'].append(integrate.cumulative_trapezoid(home_fourth_wp)[-1])\n",
    "    ingame_stats['away_gc_fourthqtr'].append(integrate.cumulative_trapezoid(away_fourth_wp)[-1])"
   ]
  },
  {
   "cell_type": "code",
   "execution_count": 6,
   "metadata": {},
   "outputs": [
    {
     "name": "stdout",
     "output_type": "stream",
     "text": [
      "2022_22_KC_PHI\n",
      "12.155488096177578\n",
      "15.6758175\n",
      "0.5852577\n",
      "-7.040667280554771\n"
     ]
    }
   ],
   "source": [
    "# example game control stats for Super Bowl 57, where home team is Eagles\n",
    "weight_ex = [play['home_wp'] - .5 if play['qtr'] != 4 else (play['home_wp'] - .5) * 1.5 for (index, play) in game.iterrows()]\n",
    "fourth_wp = [play['home_wp'] - .5 if play['qtr'] == 4 else 0 for (index, play) in game.iterrows()]\n",
    "print(game['game_id'].iloc[0])\n",
    "print(integrate.cumulative_trapezoid(weight_ex)[-1])\n",
    "print(integrate.cumulative_trapezoid(game['home_wp'] - .5)[-1])\n",
    "print(integrate.cumulative_trapezoid(game['home_wp'] * 1/len(game['home_wp']))[-1]) #average value of integral\n",
    "print(integrate.cumulative_trapezoid(fourth_wp)[-1]) #4th quarter GC"
   ]
  },
  {
   "cell_type": "code",
   "execution_count": 7,
   "metadata": {},
   "outputs": [],
   "source": [
    "# save ingame_stats\n",
    "ingame_stats_df = pd.DataFrame(ingame_stats)\n",
    "ingame_stats_df.to_csv('data/ingame_stats.csv', index=False)"
   ]
  }
 ],
 "metadata": {
  "kernelspec": {
   "display_name": "nfl-lrmc--q3Bt42M",
   "language": "python",
   "name": "python3"
  },
  "language_info": {
   "codemirror_mode": {
    "name": "ipython",
    "version": 3
   },
   "file_extension": ".py",
   "mimetype": "text/x-python",
   "name": "python",
   "nbconvert_exporter": "python",
   "pygments_lexer": "ipython3",
   "version": "3.10.10"
  },
  "orig_nbformat": 4,
  "vscode": {
   "interpreter": {
    "hash": "e8db4dff28ebb1399b296dbe3d5bc655df18bc6257799aa9cdaaeae67dd0c63d"
   }
  }
 },
 "nbformat": 4,
 "nbformat_minor": 2
}
