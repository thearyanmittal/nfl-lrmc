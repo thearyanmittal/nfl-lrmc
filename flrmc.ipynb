{
 "cells": [
  {
   "cell_type": "code",
   "execution_count": 159,
   "outputs": [],
   "source": [
    "# import packages\n",
    "import nfl_data_py as nfl\n",
    "import numpy as np\n",
    "import pandas as pd\n",
    "import matplotlib.pyplot as plt\n",
    "import seaborn as sns\n",
    "\n",
    "from sklearn.linear_model import LogisticRegression\n",
    "from sklearn.linear_model import LinearRegression\n",
    "from sklearn.metrics import mean_squared_error as mse\n",
    "\n",
    "sns.set_theme()"
   ],
   "metadata": {
    "collapsed": false
   }
  },
  {
   "cell_type": "code",
   "execution_count": 136,
   "metadata": {},
   "outputs": [],
   "source": [
    "# set flag for which metric we are calibrating LR with\n",
    "# possible values are 'point diff', 'point ratio', 'pythagorean point ratio', 'dsr', \n",
    "# 'game control', 'game control signed', 'game control avg', 'game control fourth'\n",
    "METRIC = 'game control fourth'"
   ]
  },
  {
   "cell_type": "code",
   "execution_count": 137,
   "metadata": {},
   "outputs": [],
   "source": [
    "# create dataframe containing home team, away team, point differential (home - away, 0 if OT)\n",
    "games = nfl.import_schedules([2022, 2021, 2019, 2018, 2017, 2016, 2015])\n",
    "games.dropna(axis=0)\n",
    "games['home_team'].replace({'SD': 'LAC', 'OAK': 'LV', 'STL': 'LA'}, inplace=True)\n",
    "games['away_team'].replace({'SD': 'LAC', 'OAK': 'LV', 'STL': 'LA'}, inplace=True)\n",
    "games['result'] = [0 if row['overtime'] else row['result'] for (index, row) in games.iterrows()] # replace overtime scores with 0\n",
    "\n",
    "# merge ingame_stats dataframe\n",
    "ingame_stats = pd.read_csv('data/ingame_stats.csv')\n",
    "games = games.merge(ingame_stats, 'inner', ['game_id', 'home_team', 'away_team'])\n",
    "\n",
    "nfldata = games[games['season'] != 2022][[\n",
    "    'away_team', 'home_team', 'away_score', 'home_score', 'total', 'result', 'overtime', 'div_game', 'game_type', 'season', 'gameday',\n",
    "    'home_dsr', 'away_dsr', 'home_gc', 'away_gc', 'home_gc_signed', 'away_gc_signed', 'home_gc_avg', 'away_gc_avg', \n",
    "    'home_gc_fourthqtr', 'away_gc_fourthqtr'\n",
    "    ]]\n",
    "# throw out final week games?\n",
    "\n",
    "# plt.hist(nfldata['result'], bins=len(set(nfldata['result'])))\n",
    "# plt.xticks(range(-39, 40, 3), fontsize=8, rotation=90) # how were plots generated in paper?"
   ]
  },
  {
   "cell_type": "code",
   "execution_count": 138,
   "metadata": {},
   "outputs": [
    {
     "name": "stderr",
     "output_type": "stream",
     "text": [
      "/var/folders/rw/8nrh1lbs5ngckj4mh93mhzv00000gn/T/ipykernel_55084/3441324046.py:7: SettingWithCopyWarning: \n",
      "A value is trying to be set on a copy of a slice from a DataFrame.\n",
      "Try using .loc[row_indexer,col_indexer] = value instead\n",
      "\n",
      "See the caveats in the documentation: https://pandas.pydata.org/pandas-docs/stable/user_guide/indexing.html#returning-a-view-versus-a-copy\n",
      "  hah_games['series'] = [\n",
      "/var/folders/rw/8nrh1lbs5ngckj4mh93mhzv00000gn/T/ipykernel_55084/3441324046.py:11: SettingWithCopyWarning: \n",
      "A value is trying to be set on a copy of a slice from a DataFrame\n",
      "\n",
      "See the caveats in the documentation: https://pandas.pydata.org/pandas-docs/stable/user_guide/indexing.html#returning-a-view-versus-a-copy\n",
      "  hah_games.sort_values(['series', 'gameday'], inplace=True) # sort values so home team in i is away team in i+1\n"
     ]
    }
   ],
   "source": [
    "# extract all home-and-home matchups\n",
    "# is only using divisional matchups hurting us? divisional rivalries tend to be more of a tossup than other games\n",
    "# use all games where met in reg season and playoffs and home field switched in playoffs?\n",
    "\n",
    "hah_games = nfldata.loc[(nfldata['div_game'] == 1) & (nfldata['game_type'] == 'REG')] # get all regular season divisional games\n",
    "\n",
    "hah_games['series'] = [\n",
    "    \"\".join(sorted([row[1]['home_team'], row[1]['away_team'], str(row[1]['season'])]))\n",
    "    for row in hah_games.iterrows()] # isolate home-and-home pairs\n",
    "\n",
    "hah_games.sort_values(['series', 'gameday'], inplace=True) # sort values so home team in i is away team in i+1"
   ]
  },
  {
   "cell_type": "code",
   "execution_count": 139,
   "metadata": {},
   "outputs": [],
   "source": [
    "# store home-and-home game data in the form [home - away in first matchup, 0 or 1 whether differential negative in second matchup]\n",
    "# home team from first matchup won iff (home - away) is negative in the second matchup\n",
    "# probability of outscoring team in points in next matchup or outscoring based on that metric?\n",
    "\n",
    "match METRIC:\n",
    "    case 'point diff':\n",
    "        outcomes = [row['result'] for (index, row) in hah_games.reset_index().iloc[::2,:].iterrows()]\n",
    "    case 'point ratio':\n",
    "        outcomes = [row['home_score'] / row['total'] for (index, row) in hah_games.reset_index().iloc[::2,:].iterrows()]\n",
    "    case 'pythagorean point ratio':\n",
    "        outcomes = [row['home_score']**2 / (row['home_score']**2 + row['away_score']**2) \n",
    "        for (index, row) in hah_games.reset_index().iloc[::2,:].iterrows()]\n",
    "    case 'dsr':\n",
    "        outcomes = [row['home_dsr'] - row['away_dsr'] for (index, row) in hah_games.reset_index().iloc[::2,:].iterrows()]\n",
    "    case 'game control':\n",
    "        outcomes = [row['home_gc'] for (index, row) in hah_games.reset_index().iloc[::2,:].iterrows()]\n",
    "    case 'game control signed':\n",
    "        outcomes = [row['home_gc_signed'] for (index, row) in hah_games.reset_index().iloc[::2,:].iterrows()]\n",
    "    case 'game control avg':\n",
    "        outcomes = [row['home_gc_avg'] for (index, row) in hah_games.reset_index().iloc[::2,:].iterrows()]\n",
    "    case 'game control fourth':\n",
    "        outcomes = [row['home_gc_fourthqtr'] for (index, row) in hah_games.reset_index().iloc[::2,:].iterrows()]\n",
    "\n",
    "logr_X = np.array(outcomes)\n",
    "logr_y = np.array([int(row['result'] < 0) for (index, row) in hah_games.reset_index().iloc[1::2, :].iterrows()])"
   ]
  },
  {
   "cell_type": "code",
   "execution_count": 140,
   "metadata": {},
   "outputs": [
    {
     "name": "stdout",
     "output_type": "stream",
     "text": [
      "0.02267688342822375 -0.35354387800076914\n"
     ]
    },
    {
     "name": "stderr",
     "output_type": "stream",
     "text": [
      "/Users/aryanmittal/.local/share/virtualenvs/nfl-lrmc--q3Bt42M/lib/python3.10/site-packages/sklearn/utils/validation.py:1143: DataConversionWarning: A column-vector y was passed when a 1d array was expected. Please change the shape of y to (n_samples, ), for example using ravel().\n",
      "  y = column_or_1d(y, warn=True)\n"
     ]
    }
   ],
   "source": [
    "# train logistic regression on home-and-home matchup data (prob. of original home team winning away in next matchup)\n",
    "clf = LogisticRegression().fit(logr_X.reshape(-1, 1), logr_y.reshape(-1, 1))\n",
    "print(clf.coef_[0][0], clf.intercept_[0])"
   ]
  },
  {
   "cell_type": "code",
   "execution_count": 141,
   "metadata": {},
   "outputs": [
    {
     "name": "stdout",
     "output_type": "stream",
     "text": [
      "7.707059060686703\n"
     ]
    }
   ],
   "source": [
    "# derive home field advantage (h = xhat / 2 = 4.9 for point diff metric)\n",
    "h = min(outcomes)\n",
    "for i in np.arange(min(outcomes), max(outcomes), 0.0001):\n",
    "    if abs(clf.predict_proba(np.array([i]).reshape(-1, 1))[0][1] - .5) < .001:\n",
    "        h = i / 2\n",
    "        break\n",
    "print(h)"
   ]
  },
  {
   "cell_type": "code",
   "execution_count": 142,
   "metadata": {},
   "outputs": [],
   "source": [
    "# develop Markov Chain\n",
    "teams = sorted(list(set(hah_games['home_team'].tolist() + hah_games['away_team'].tolist())))\n",
    "P = np.zeros((len(teams), len(teams))) # 32x32 transition matrix\n",
    "n_games = np.zeros(len(teams)) # count number of games played by each team (17 except in rare cases, e.g. Bills/Bengals)\n",
    "games_2022 = games[(games['season'] == 2022) & (games['game_type'] == 'REG')]\n",
    "\n",
    "for (index, row) in games_2022.iterrows():\n",
    "    home_i = teams.index(row['home_team'])\n",
    "    away_i = teams.index(row['away_team'])\n",
    "    match METRIC:\n",
    "        case 'point diff':\n",
    "            spread = row['result']\n",
    "        case 'point ratio':\n",
    "            spread = row['home_score'] / row['total']\n",
    "        case 'pythagorean point ratio':\n",
    "            spread = row['home_score']**2 / (row['home_score']**2 + row['away_score']**2)\n",
    "        case 'dsr':\n",
    "            spread = row['home_dsr'] - row['away_dsr']\n",
    "        case 'game control':\n",
    "            spread = row['home_gc']\n",
    "        case 'game control signed':\n",
    "            spread = row['home_gc_signed']\n",
    "        case 'game control avg':\n",
    "            spread = row['home_gc_avg']\n",
    "        case 'game control fourth':\n",
    "            spread = row['home_gc_fourthqtr']\n",
    "    r_x = clf.predict_proba(np.array(spread + h).reshape(-1, 1))[0][1]\n",
    "\n",
    "    n_games[home_i] += 1\n",
    "    n_games[away_i] += 1\n",
    "\n",
    "    P[home_i, away_i] += 1 - r_x\n",
    "    P[away_i, home_i] += r_x\n",
    "    P[home_i, home_i] += r_x\n",
    "    P[away_i, away_i] += 1 - r_x\n",
    "\n",
    "P /= n_games # divide each row by number of games played to normalize"
   ]
  },
  {
   "cell_type": "code",
   "execution_count": 143,
   "metadata": {},
   "outputs": [
    {
     "name": "stdout",
     "output_type": "stream",
     "text": [
      "      LRMC Rating  LRMC Rating Normed\n",
      "Team                                 \n",
      "BUF      0.041174            1.000000\n",
      "KC       0.040644            0.987134\n",
      "CIN      0.039651            0.963004\n",
      "PHI      0.038547            0.936193\n",
      "BAL      0.038507            0.935237\n",
      "DAL      0.036267            0.880834\n",
      "SF       0.035877            0.871356\n",
      "NE       0.032953            0.800336\n",
      "TEN      0.032449            0.788103\n",
      "PIT      0.032349            0.785660\n",
      "MIA      0.032110            0.779870\n",
      "JAX      0.031550            0.766261\n",
      "CLE      0.030680            0.745129\n",
      "DET      0.030635            0.744037\n",
      "LAC      0.030614            0.743529\n",
      "SEA      0.030312            0.736192\n",
      "MIN      0.030139            0.731986\n",
      "NO       0.029700            0.721339\n",
      "LV       0.029442            0.715074\n",
      "DEN      0.029307            0.711793\n",
      "CAR      0.029233            0.709992\n",
      "NYG      0.028735            0.697897\n",
      "NYJ      0.028221            0.685410\n",
      "ATL      0.028218            0.685341\n",
      "WAS      0.028028            0.680725\n",
      "TB       0.027872            0.676926\n",
      "IND      0.027719            0.673213\n",
      "GB       0.027247            0.661751\n",
      "LA       0.026536            0.644485\n",
      "ARI      0.026225            0.636922\n",
      "CHI      0.025235            0.612884\n",
      "HOU      0.024904            0.604848\n"
     ]
    }
   ],
   "source": [
    "prior = np.ones(32) / 32\n",
    "steady_state = np.linalg.matrix_power(P, 1000)\n",
    "ratings = prior.dot(steady_state)\n",
    "rating_df = pd.DataFrame({\n",
    "    'Team': teams,\n",
    "    'LRMC Rating': ratings,\n",
    "    'LRMC Rating Normed': ratings / max(ratings)\n",
    "})\n",
    "\n",
    "rating_df.sort_values(by=['LRMC Rating'], ascending=False, inplace=True)\n",
    "rating_df.set_index('Team', inplace=True)\n",
    "print(rating_df)"
   ]
  },
  {
   "cell_type": "code",
   "execution_count": 165,
   "outputs": [
    {
     "name": "stdout",
     "output_type": "stream",
     "text": [
      "x_ha = 927.5639222274777 (π_h - π_a) + 2.1435689801440394\n",
      "RMSE: 10.790897087354935\n",
      "Spread RMSE: 11.408144303854355\n"
     ]
    }
   ],
   "source": [
    "# linear regression for playoff prediction (in: MC loading home - away, out: exp pt diff home - away)\n",
    "# fit to all regular season games in 2022\n",
    "linr_X = np.array([\n",
    "    rating_df.loc[row['home_team']]['LRMC Rating'] - rating_df.loc[row['away_team']]['LRMC Rating']\n",
    "    for (index, row) in games_2022.iterrows()\n",
    "])\n",
    "linr_y = np.array([row['result'] for (index, row) in games_2022.iterrows()])\n",
    "playoff_clf = LinearRegression().fit(linr_X.reshape(-1, 1), linr_y.reshape(-1, 1))\n",
    "\n",
    "# intercept = home field advantage in points\n",
    "print(f'x_ha = {playoff_clf.coef_[0][0]} (π_h - π_a) + {playoff_clf.intercept_[0]}') # diff between this home field adv and derived?\n",
    "print(f'RMSE: {mse(linr_y, playoff_clf.predict(linr_X.reshape(-1, 1)), squared=False)}')\n",
    "print(f\"Spread RMSE: {mse(np.array([row['result'] for (index, row) in games_2022.iterrows()]), np.array([row['spread_line'] for (index, row) in games_2022.iterrows()]), squared=False)}\") # RMSE for regular season"
   ],
   "metadata": {
    "collapsed": false
   }
  }
 ],
 "metadata": {
  "kernelspec": {
   "display_name": "nfl-lrmc--q3Bt42M",
   "language": "python",
   "name": "python3"
  },
  "language_info": {
   "codemirror_mode": {
    "name": "ipython",
    "version": 3
   },
   "file_extension": ".py",
   "mimetype": "text/x-python",
   "name": "python",
   "nbconvert_exporter": "python",
   "pygments_lexer": "ipython3",
   "version": "3.10.10"
  },
  "orig_nbformat": 4,
  "vscode": {
   "interpreter": {
    "hash": "e8db4dff28ebb1399b296dbe3d5bc655df18bc6257799aa9cdaaeae67dd0c63d"
   }
  }
 },
 "nbformat": 4,
 "nbformat_minor": 2
}
