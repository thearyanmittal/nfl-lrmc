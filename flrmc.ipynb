{
 "cells": [
  {
   "cell_type": "code",
   "execution_count": 4,
   "outputs": [],
   "source": [
    "# import packages\n",
    "import nfl_data_py as nfl\n",
    "import numpy as np\n",
    "import pandas as pd\n",
    "import matplotlib.pyplot as plt\n",
    "import seaborn as sns\n",
    "from sklearn.linear_model import LogisticRegression\n",
    "\n",
    "sns.set_theme()"
   ],
   "metadata": {
    "collapsed": false
   }
  },
  {
   "cell_type": "code",
   "execution_count": 5,
   "metadata": {},
   "outputs": [],
   "source": [
    "# set flag for which metric we are calibrating LR with\n",
    "# possible values are 'point diff', 'point ratio', 'pythagorean point ratio', 'dsr', \n",
    "# 'game control', 'game control signed', 'game control avg', 'game control fourth'\n",
    "METRIC = 'game control fourth'"
   ]
  },
  {
   "cell_type": "code",
   "execution_count": 6,
   "metadata": {},
   "outputs": [],
   "source": [
    "# create dataframe containing home team, away team, point differential (home - away, 0 if OT)\n",
    "games = nfl.import_schedules([2022, 2021, 2019, 2018, 2017, 2016, 2015])\n",
    "games.dropna(axis=0)\n",
    "games['home_team'].replace({'SD': 'LAC', 'OAK': 'LV', 'STL': 'LA'}, inplace=True)\n",
    "games['away_team'].replace({'SD': 'LAC', 'OAK': 'LV', 'STL': 'LA'}, inplace=True)\n",
    "games['result'] = [0 if row['overtime'] else row['result'] for (index, row) in games.iterrows()] # replace overtime scores with 0\n",
    "\n",
    "# merge ingame_stats dataframe\n",
    "ingame_stats = pd.read_csv('data/ingame_stats.csv')\n",
    "games = games.merge(ingame_stats, 'inner', ['game_id', 'home_team', 'away_team'])\n",
    "\n",
    "nfldata = games[games['season'] != 2022][[\n",
    "    'away_team', 'home_team', 'away_score', 'home_score', 'total', 'result', 'overtime', 'div_game', 'game_type', 'season', 'gameday',\n",
    "    'home_dsr', 'away_dsr', 'home_gc', 'away_gc', 'home_gc_signed', 'away_gc_signed', 'home_gc_avg', 'away_gc_avg', \n",
    "    'home_gc_fourthqtr', 'away_gc_fourthqtr'\n",
    "    ]]\n",
    "# throw out final week games?\n",
    "\n",
    "# plt.hist(nfldata['result'], bins=len(set(nfldata['result'])))\n",
    "# plt.xticks(range(-39, 40, 3), fontsize=8, rotation=90) # how were plots generated in paper?"
   ]
  },
  {
   "cell_type": "code",
   "execution_count": 32,
   "metadata": {},
   "outputs": [
    {
     "name": "stderr",
     "output_type": "stream",
     "text": [
      "/var/folders/rw/8nrh1lbs5ngckj4mh93mhzv00000gn/T/ipykernel_13520/3441324046.py:7: SettingWithCopyWarning: \n",
      "A value is trying to be set on a copy of a slice from a DataFrame.\n",
      "Try using .loc[row_indexer,col_indexer] = value instead\n",
      "\n",
      "See the caveats in the documentation: https://pandas.pydata.org/pandas-docs/stable/user_guide/indexing.html#returning-a-view-versus-a-copy\n",
      "  hah_games['series'] = [\n",
      "/var/folders/rw/8nrh1lbs5ngckj4mh93mhzv00000gn/T/ipykernel_13520/3441324046.py:11: SettingWithCopyWarning: \n",
      "A value is trying to be set on a copy of a slice from a DataFrame\n",
      "\n",
      "See the caveats in the documentation: https://pandas.pydata.org/pandas-docs/stable/user_guide/indexing.html#returning-a-view-versus-a-copy\n",
      "  hah_games.sort_values(['series', 'gameday'], inplace=True) # sort values so home team in i is away team in i+1\n"
     ]
    }
   ],
   "source": [
    "# extract all home-and-home matchups\n",
    "# is only using divisional matchups hurting us? divisional rivalries tend to be more of a tossup than other games\n",
    "# use all games where met in reg season and playoffs and home field switched in playoffs?\n",
    "\n",
    "hah_games = nfldata.loc[(nfldata['div_game'] == 1) & (nfldata['game_type'] == 'REG')] # get all regular season divisional games\n",
    "\n",
    "hah_games['series'] = [\n",
    "    \"\".join(sorted([row[1]['home_team'], row[1]['away_team'], str(row[1]['season'])]))\n",
    "    for row in hah_games.iterrows()] # isolate home-and-home pairs\n",
    "\n",
    "hah_games.sort_values(['series', 'gameday'], inplace=True) # sort values so home team in i is away team in i+1"
   ]
  },
  {
   "cell_type": "code",
   "execution_count": 33,
   "metadata": {},
   "outputs": [],
   "source": [
    "# store home-and-home game data in the form [home - away in first matchup, 0 or 1 whether differential negative in second matchup]\n",
    "# home team from first matchup won iff (home - away) is negative in the second matchup\n",
    "# probability of outscoring team in points in next matchup or outscoring based on that metric?\n",
    "\n",
    "match METRIC:\n",
    "    case 'point diff':\n",
    "        outcomes = [row['result'] for (index, row) in hah_games.reset_index().iloc[::2,:].iterrows()]\n",
    "    case 'point ratio':\n",
    "        outcomes = [row['home_score'] / row['total'] for (index, row) in hah_games.reset_index().iloc[::2,:].iterrows()]\n",
    "    case 'pythagorean point ratio':\n",
    "        outcomes = [row['home_score']**2 / (row['home_score']**2 + row['away_score']**2) \n",
    "        for (index, row) in hah_games.reset_index().iloc[::2,:].iterrows()]\n",
    "    case 'dsr':\n",
    "        outcomes = [row['home_dsr'] - row['away_dsr'] for (index, row) in hah_games.reset_index().iloc[::2,:].iterrows()]\n",
    "    case 'game control':\n",
    "        outcomes = [row['home_gc'] for (index, row) in hah_games.reset_index().iloc[::2,:].iterrows()]\n",
    "    case 'game control signed':\n",
    "        outcomes = [row['home_gc_signed'] for (index, row) in hah_games.reset_index().iloc[::2,:].iterrows()]\n",
    "    case 'game control avg':\n",
    "        outcomes = [row['home_gc_avg'] for (index, row) in hah_games.reset_index().iloc[::2,:].iterrows()]\n",
    "    case 'game control fourth':\n",
    "        outcomes = [row['home_gc_fourthqtr'] for (index, row) in hah_games.reset_index().iloc[::2,:].iterrows()]\n",
    "\n",
    "lr_X = np.array(outcomes)\n",
    "lr_y = np.array([int(row['result'] < 0) for (index, row) in hah_games.reset_index().iloc[1::2, :].iterrows()])"
   ]
  },
  {
   "cell_type": "code",
   "execution_count": 34,
   "metadata": {},
   "outputs": [
    {
     "name": "stdout",
     "output_type": "stream",
     "text": [
      "0.02267688342822375 -0.35354387800076914\n"
     ]
    },
    {
     "name": "stderr",
     "output_type": "stream",
     "text": [
      "/Users/aryanmittal/.local/share/virtualenvs/nfl-lrmc--q3Bt42M/lib/python3.10/site-packages/sklearn/utils/validation.py:1143: DataConversionWarning: A column-vector y was passed when a 1d array was expected. Please change the shape of y to (n_samples, ), for example using ravel().\n",
      "  y = column_or_1d(y, warn=True)\n"
     ]
    }
   ],
   "source": [
    "# train logistic regression on home-and-home matchup data (prob. of original home team winning away in next matchup)\n",
    "clf = LogisticRegression().fit(lr_X.reshape(-1, 1), lr_y.reshape(-1, 1))\n",
    "print(clf.coef_[0][0], clf.intercept_[0])"
   ]
  },
  {
   "cell_type": "code",
   "execution_count": 35,
   "metadata": {},
   "outputs": [
    {
     "name": "stdout",
     "output_type": "stream",
     "text": [
      "7.707059060686703\n"
     ]
    }
   ],
   "source": [
    "# derive home field advantage (h = xhat / 2 = 4.9 for point diff metric)\n",
    "h = min(outcomes)\n",
    "for i in np.arange(min(outcomes), max(outcomes), 0.0001):\n",
    "    if abs(clf.predict_proba(np.array([i]).reshape(-1, 1))[0][1] - .5) < .001:\n",
    "        h = i / 2\n",
    "        break\n",
    "print(h)"
   ]
  },
  {
   "cell_type": "code",
   "execution_count": 36,
   "metadata": {},
   "outputs": [],
   "source": [
    "# develop Markov Chain\n",
    "teams = sorted(list(set(hah_games['home_team'].tolist() + hah_games['away_team'].tolist())))\n",
    "P = np.zeros((len(teams), len(teams))) # 32x32 transition matrix\n",
    "n_games = np.zeros(len(teams)) # count number of games played by each team (17 except in rare cases, e.g. Bills/Bengals)\n",
    "games_2022 = games[(games['season'] == 2022) & (games['game_type'] == 'REG')]\n",
    "\n",
    "for (index, row) in games_2022.iterrows():\n",
    "    home_i = teams.index(row['home_team'])\n",
    "    away_i = teams.index(row['away_team'])\n",
    "    match METRIC:\n",
    "        case 'point diff':\n",
    "            spread = row['result']\n",
    "        case 'point ratio':\n",
    "            spread = row['home_score'] / row['total']\n",
    "        case 'pythagorean point ratio':\n",
    "            spread = row['home_score']**2 / (row['home_score']**2 + row['away_score']**2)\n",
    "        case 'dsr':\n",
    "            spread = row['home_dsr'] - row['away_dsr']\n",
    "        case 'game control':\n",
    "            spread = row['home_gc']\n",
    "        case 'game control signed':\n",
    "            spread = row['home_gc_signed']\n",
    "        case 'game control avg':\n",
    "            spread = row['home_gc_avg']\n",
    "        case 'game control fourth':\n",
    "            spread = row['home_gc_fourthqtr']\n",
    "    r_x = clf.predict_proba(np.array(spread + h).reshape(-1, 1))[0][1]\n",
    "\n",
    "    n_games[home_i] += 1\n",
    "    n_games[away_i] += 1\n",
    "\n",
    "    P[home_i, away_i] += 1 - r_x\n",
    "    P[away_i, home_i] += r_x\n",
    "    P[home_i, home_i] += r_x\n",
    "    P[away_i, away_i] += 1 - r_x\n",
    "\n",
    "P /= n_games # divide each row by number of games played to normalize"
   ]
  },
  {
   "cell_type": "code",
   "execution_count": 44,
   "metadata": {},
   "outputs": [
    {
     "data": {
      "text/plain": "    index Team  LRMC Rating\n0       3  BUF     1.000000\n1      15   KC     0.987134\n2       6  CIN     0.963004\n3      25  PHI     0.936193\n4       2  BAL     0.935237\n5       8  DAL     0.880834\n6      28   SF     0.871356\n7      21   NE     0.800336\n8      30  TEN     0.788103\n9      26  PIT     0.785660\n10     19  MIA     0.779870\n11     14  JAX     0.766261\n12      7  CLE     0.745129\n13     10  DET     0.744037\n14     17  LAC     0.743529\n15     27  SEA     0.736192\n16     20  MIN     0.731986\n17     22   NO     0.721339\n18     18   LV     0.715074\n19      9  DEN     0.711793\n20      4  CAR     0.709992\n21     23  NYG     0.697897\n22     24  NYJ     0.685410\n23      1  ATL     0.685341\n24     31  WAS     0.680725\n25     29   TB     0.676926\n26     13  IND     0.673213\n27     11   GB     0.661751\n28     16   LA     0.644485\n29      0  ARI     0.636922\n30      5  CHI     0.612884\n31     12  HOU     0.604848",
      "text/html": "<div>\n<style scoped>\n    .dataframe tbody tr th:only-of-type {\n        vertical-align: middle;\n    }\n\n    .dataframe tbody tr th {\n        vertical-align: top;\n    }\n\n    .dataframe thead th {\n        text-align: right;\n    }\n</style>\n<table border=\"1\" class=\"dataframe\">\n  <thead>\n    <tr style=\"text-align: right;\">\n      <th></th>\n      <th>index</th>\n      <th>Team</th>\n      <th>LRMC Rating</th>\n    </tr>\n  </thead>\n  <tbody>\n    <tr>\n      <th>0</th>\n      <td>3</td>\n      <td>BUF</td>\n      <td>1.000000</td>\n    </tr>\n    <tr>\n      <th>1</th>\n      <td>15</td>\n      <td>KC</td>\n      <td>0.987134</td>\n    </tr>\n    <tr>\n      <th>2</th>\n      <td>6</td>\n      <td>CIN</td>\n      <td>0.963004</td>\n    </tr>\n    <tr>\n      <th>3</th>\n      <td>25</td>\n      <td>PHI</td>\n      <td>0.936193</td>\n    </tr>\n    <tr>\n      <th>4</th>\n      <td>2</td>\n      <td>BAL</td>\n      <td>0.935237</td>\n    </tr>\n    <tr>\n      <th>5</th>\n      <td>8</td>\n      <td>DAL</td>\n      <td>0.880834</td>\n    </tr>\n    <tr>\n      <th>6</th>\n      <td>28</td>\n      <td>SF</td>\n      <td>0.871356</td>\n    </tr>\n    <tr>\n      <th>7</th>\n      <td>21</td>\n      <td>NE</td>\n      <td>0.800336</td>\n    </tr>\n    <tr>\n      <th>8</th>\n      <td>30</td>\n      <td>TEN</td>\n      <td>0.788103</td>\n    </tr>\n    <tr>\n      <th>9</th>\n      <td>26</td>\n      <td>PIT</td>\n      <td>0.785660</td>\n    </tr>\n    <tr>\n      <th>10</th>\n      <td>19</td>\n      <td>MIA</td>\n      <td>0.779870</td>\n    </tr>\n    <tr>\n      <th>11</th>\n      <td>14</td>\n      <td>JAX</td>\n      <td>0.766261</td>\n    </tr>\n    <tr>\n      <th>12</th>\n      <td>7</td>\n      <td>CLE</td>\n      <td>0.745129</td>\n    </tr>\n    <tr>\n      <th>13</th>\n      <td>10</td>\n      <td>DET</td>\n      <td>0.744037</td>\n    </tr>\n    <tr>\n      <th>14</th>\n      <td>17</td>\n      <td>LAC</td>\n      <td>0.743529</td>\n    </tr>\n    <tr>\n      <th>15</th>\n      <td>27</td>\n      <td>SEA</td>\n      <td>0.736192</td>\n    </tr>\n    <tr>\n      <th>16</th>\n      <td>20</td>\n      <td>MIN</td>\n      <td>0.731986</td>\n    </tr>\n    <tr>\n      <th>17</th>\n      <td>22</td>\n      <td>NO</td>\n      <td>0.721339</td>\n    </tr>\n    <tr>\n      <th>18</th>\n      <td>18</td>\n      <td>LV</td>\n      <td>0.715074</td>\n    </tr>\n    <tr>\n      <th>19</th>\n      <td>9</td>\n      <td>DEN</td>\n      <td>0.711793</td>\n    </tr>\n    <tr>\n      <th>20</th>\n      <td>4</td>\n      <td>CAR</td>\n      <td>0.709992</td>\n    </tr>\n    <tr>\n      <th>21</th>\n      <td>23</td>\n      <td>NYG</td>\n      <td>0.697897</td>\n    </tr>\n    <tr>\n      <th>22</th>\n      <td>24</td>\n      <td>NYJ</td>\n      <td>0.685410</td>\n    </tr>\n    <tr>\n      <th>23</th>\n      <td>1</td>\n      <td>ATL</td>\n      <td>0.685341</td>\n    </tr>\n    <tr>\n      <th>24</th>\n      <td>31</td>\n      <td>WAS</td>\n      <td>0.680725</td>\n    </tr>\n    <tr>\n      <th>25</th>\n      <td>29</td>\n      <td>TB</td>\n      <td>0.676926</td>\n    </tr>\n    <tr>\n      <th>26</th>\n      <td>13</td>\n      <td>IND</td>\n      <td>0.673213</td>\n    </tr>\n    <tr>\n      <th>27</th>\n      <td>11</td>\n      <td>GB</td>\n      <td>0.661751</td>\n    </tr>\n    <tr>\n      <th>28</th>\n      <td>16</td>\n      <td>LA</td>\n      <td>0.644485</td>\n    </tr>\n    <tr>\n      <th>29</th>\n      <td>0</td>\n      <td>ARI</td>\n      <td>0.636922</td>\n    </tr>\n    <tr>\n      <th>30</th>\n      <td>5</td>\n      <td>CHI</td>\n      <td>0.612884</td>\n    </tr>\n    <tr>\n      <th>31</th>\n      <td>12</td>\n      <td>HOU</td>\n      <td>0.604848</td>\n    </tr>\n  </tbody>\n</table>\n</div>"
     },
     "execution_count": 44,
     "metadata": {},
     "output_type": "execute_result"
    }
   ],
   "source": [
    "prior = np.ones(32) / 32\n",
    "steady_state = np.linalg.matrix_power(P, 1000)\n",
    "ratings = prior.dot(steady_state)\n",
    "rating_df = pd.DataFrame({\n",
    "    'Team': teams,\n",
    "    'LRMC Rating': ratings / max(ratings)\n",
    "})\n",
    "\n",
    "rating_df.sort_values(by=['LRMC Rating'], ascending=False, inplace=True)\n",
    "rating_df.reset_index() # how to incorporate home field playoff advantage into Markov chain rankings?"
   ]
  }
 ],
 "metadata": {
  "kernelspec": {
   "display_name": "nfl-lrmc--q3Bt42M",
   "language": "python",
   "name": "python3"
  },
  "language_info": {
   "codemirror_mode": {
    "name": "ipython",
    "version": 3
   },
   "file_extension": ".py",
   "mimetype": "text/x-python",
   "name": "python",
   "nbconvert_exporter": "python",
   "pygments_lexer": "ipython3",
   "version": "3.10.10"
  },
  "orig_nbformat": 4,
  "vscode": {
   "interpreter": {
    "hash": "e8db4dff28ebb1399b296dbe3d5bc655df18bc6257799aa9cdaaeae67dd0c63d"
   }
  }
 },
 "nbformat": 4,
 "nbformat_minor": 2
}
